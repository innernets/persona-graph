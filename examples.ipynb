{
 "cells": [
  {
   "cell_type": "code",
   "execution_count": null,
   "metadata": {},
   "outputs": [],
   "source": [
    "# E-commerce Product Recommendations with Innernet User Memory\n",
    "\n",
    "# Import necessary libraries\n",
    "import requests\n",
    "import json\n",
    "\n",
    "# Define the API endpoint\n",
    "API_ENDPOINT = \"http://localhost:8000/api/v1\"\n",
    "\n",
    "# Helper function to make API calls\n",
    "def api_call(method, endpoint, data=None):\n",
    "    url = f\"{API_ENDPOINT}/{endpoint}\"\n",
    "    if method == \"GET\":\n",
    "        response = requests.get(url)\n",
    "    elif method == \"POST\":\n",
    "        response = requests.post(url, json=data)\n",
    "    else:\n",
    "        raise ValueError(\"Unsupported HTTP method\")\n",
    "    return response.json()\n",
    "\n",
    "print(\"Innernet User Memory library imported and API endpoint set up.\")"
   ]
  },
  {
   "cell_type": "code",
   "execution_count": null,
   "metadata": {},
   "outputs": [],
   "source": [
    "## Introduction\n",
    "\n",
    "This notebook demonstrates how to use the Innernet User Memory library for e-commerce product recommendations. We'll create a sample user, ingest their shopping data, and then use the personalized knowledge graph to generate product recommendations.\n",
    "\n",
    "The Innernet User Memory system creates a dynamic knowledge graph for each user, enabling highly personalized recommendations that evolve with the user's preferences over time."
   ]
  },
  {
   "cell_type": "code",
   "execution_count": null,
   "metadata": {},
   "outputs": [],
   "source": [
    "# Create a new user\n",
    "user_id = \"alice_shopper\"\n",
    "create_user_response = api_call(\"POST\", \"users\", {\"user_id\": user_id})\n",
    "print(f\"User created: {create_user_response}\")\n",
    "\n",
    "# Sample shopping data\n",
    "shopping_data = \"\"\"\n",
    "Alice has been shopping for outdoor gear recently. She bought a North Face jacket last month and has been browsing camping tents. \n",
    "She's shown interest in brands like Patagonia and Columbia. Alice tends to prefer eco-friendly products and has a budget of around $200 for her next purchase. \n",
    "She's also been looking at hiking boots, particularly waterproof ones suitable for rough terrain.\n",
    "\"\"\"\n",
    "\n",
    "# Ingest the shopping data\n",
    "ingest_response = api_call(\"POST\", f\"ingest/{user_id}\", {\"content\": shopping_data})\n",
    "print(f\"Data ingested: {ingest_response}\")"
   ]
  },
  {
   "cell_type": "code",
   "execution_count": null,
   "metadata": {},
   "outputs": [],
   "source": [
    "## Data Ingestion\n",
    "\n",
    "We've just created a user profile for \"alice_shopper\" and ingested some sample shopping data. The Innernet User Memory system has processed this information to create and update Alice's personal knowledge graph. \n",
    "\n",
    "This graph now contains information about:\n",
    "- Alice's recent purchases (North Face jacket)\n",
    "- Her browsing history (camping tents, hiking boots)\n",
    "- Brand preferences (North Face, Patagonia, Columbia)\n",
    "- Product preferences (eco-friendly, waterproof)\n",
    "- Budget considerations ($200 for next purchase)\n",
    "\n",
    "The system uses this information to build a comprehensive understanding of Alice's shopping habits and preferences."
   ]
  },
  {
   "cell_type": "code",
   "execution_count": null,
   "metadata": {},
   "outputs": [],
   "source": [
    "# Generate product recommendations\n",
    "query = \"What new outdoor gear products would you recommend for Alice?\"\n",
    "rag_response = api_call(\"POST\", f\"rag/{user_id}/query\", {\"query\": query})\n",
    "\n",
    "print(\"Product Recommendations:\")\n",
    "print(rag_response['response'])"
   ]
  },
  {
   "cell_type": "code",
   "execution_count": null,
   "metadata": {},
   "outputs": [],
   "source": [
    "## Product Recommendations\n",
    "\n",
    "The Innernet User Memory system has used Alice's personalized knowledge graph to generate product recommendations. These recommendations are based on her recent shopping history, brand preferences, and specific product interests.\n",
    "\n",
    "The system considers factors like:\n",
    "1. Alice's interest in outdoor gear\n",
    "2. Her recent purchase of a North Face jacket\n",
    "3. Her browsing history of camping tents and hiking boots\n",
    "4. Her preference for eco-friendly products\n",
    "5. Her budget of around $200\n",
    "\n",
    "This results in highly personalized recommendations that are likely to match Alice's current interests and needs."
   ]
  },
  {
   "cell_type": "code",
   "execution_count": null,
   "metadata": {},
   "outputs": [],
   "source": [
    "# Update Alice's preferences with new information\n",
    "new_data = \"\"\"\n",
    "Alice recently went on a hiking trip and realized she needs a better backpack. \n",
    "She's now looking for a lightweight, durable backpack with good back support. \n",
    "Her budget for the backpack has increased to $300.\n",
    "\"\"\"\n",
    "\n",
    "# Ingest the new data\n",
    "ingest_response = api_call(\"POST\", f\"ingest/{user_id}\", {\"content\": new_data})\n",
    "print(f\"New data ingested: {ingest_response}\")\n",
    "\n",
    "# Generate updated recommendations\n",
    "query = \"What backpack would you recommend for Alice based on her recent hiking experience?\"\n",
    "rag_response = api_call(\"POST\", f\"rag/{user_id}/query\", {\"query\": query})\n",
    "\n",
    "print(\"Updated Backpack Recommendation:\")\n",
    "print(rag_response['response'])  "
   ]
  },
  {
   "cell_type": "code",
   "execution_count": null,
   "metadata": {},
   "outputs": [],
   "source": [
    "## Adaptive Recommendations\n",
    "\n",
    "The Innernet User Memory system is designed to continuously learn and adapt to new information about the user. We've just ingested new data about Alice's recent hiking experience and her updated preferences for a backpack.\n",
    "\n",
    "The system has:\n",
    "1. Updated Alice's knowledge graph with the new information\n",
    "2. Adjusted its understanding of her current needs (focus on backpacks)\n",
    "3. Noted the change in budget for this specific item\n",
    "4. Incorporated her experience-based preferences (lightweight, durable, good back support)\n",
    "\n",
    "The new recommendation takes all of this updated information into account, demonstrating how the system evolves with the user's experiences and changing preferences. This adaptive nature ensures that recommendations remain relevant and personalized over time."
   ]
  }
 ],
 "metadata": {
  "language_info": {
   "name": "python"
  }
 },
 "nbformat": 4,
 "nbformat_minor": 2
}
